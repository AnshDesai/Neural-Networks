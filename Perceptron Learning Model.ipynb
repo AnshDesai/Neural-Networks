{
 "cells": [
  {
   "cell_type": "markdown",
   "metadata": {},
   "source": [
    "### Import "
   ]
  },
  {
   "cell_type": "code",
   "execution_count": 2,
   "metadata": {},
   "outputs": [],
   "source": [
    "import numpy as np\n",
    "import matplotlib.pyplot as plt"
   ]
  },
  {
   "cell_type": "markdown",
   "metadata": {},
   "source": [
    "### Plot on graph"
   ]
  },
  {
   "cell_type": "code",
   "execution_count": 34,
   "metadata": {},
   "outputs": [
    {
     "data": {
      "image/png": "[encoded data removed]",
      "text/plain": [
       "<Figure size 432x288 with 1 Axes>"
      ]
     },
     "metadata": {
      "needs_background": "light"
     },
     "output_type": "display_data"
    }
   ],
   "source": [
    "X = np.array( [[4.5,35], [4.9,38], [5.0,45], [4.8,49], [5.8,59], [5.6,65], [5.7, 73], [5.8,82]] )\n",
    "Y = np.array( [[-1], [-1], [-1], [-1], [1], [1], [1], [1], ] )\n",
    "\n",
    "plt.figure()\n",
    "for index, x in enumerate(X):\n",
    "    if Y[index] ==-1:\n",
    "        plt.scatter(x[0],x[1],c='m',marker='o')\n",
    "    else:\n",
    "        plt.scatter(x[0],x[1],c='r',marker='x')\n",
    "plt.xlabel(\"Height\")\n",
    "plt.ylabel(\"Weight\")\n",
    "plt.show()"
   ]
  },
  {
   "cell_type": "markdown",
   "metadata": {},
   "source": [
    "### Activation function"
   ]
  },
  {
   "cell_type": "code",
   "execution_count": 35,
   "metadata": {},
   "outputs": [],
   "source": [
    "def activation(z):\n",
    "    if z<0:\n",
    "        return -1\n",
    "    else:\n",
    "        return 1"
   ]
  },
  {
   "cell_type": "markdown",
   "metadata": {},
   "source": [
    "### Perceptron training model"
   ]
  },
  {
   "cell_type": "code",
   "execution_count": 40,
   "metadata": {},
   "outputs": [
    {
     "data": {
      "text/plain": [
       "array([[ 1. ,  4.5, 35. ],\n",
       "       [ 1. ,  4.9, 38. ],\n",
       "       [ 1. ,  5. , 45. ],\n",
       "       [ 1. ,  4.8, 49. ],\n",
       "       [ 1. ,  5.8, 59. ],\n",
       "       [ 1. ,  5.6, 65. ],\n",
       "       [ 1. ,  5.7, 73. ],\n",
       "       [ 1. ,  5.8, 82. ]])"
      ]
     },
     "execution_count": 40,
     "metadata": {},
     "output_type": "execute_result"
    }
   ],
   "source": [
    "np.hstack( (np.ones((8, 1)), X) )"
   ]
  },
  {
   "cell_type": "code",
   "execution_count": 37,
   "metadata": {},
   "outputs": [
    {
     "data": {
      "text/plain": [
       "array([[0.47360564],\n",
       "       [0.6196717 ],\n",
       "       [0.14069586],\n",
       "       [0.05936598],\n",
       "       [0.07880691],\n",
       "       [0.58843671],\n",
       "       [0.31208166],\n",
       "       [0.74642172]])"
      ]
     },
     "execution_count": 37,
     "metadata": {},
     "output_type": "execute_result"
    }
   ],
   "source": [
    "np.random.rand(7+1).reshape((-1,1))"
   ]
  },
  {
   "cell_type": "code",
   "execution_count": 55,
   "metadata": {},
   "outputs": [],
   "source": [
    "def perceptron(X, Y, learning_rate):\n",
    "    num_samples, num_features = X.shape \n",
    "    X = np.hstack( (np.ones((num_samples, 1)), X) ) #Input data + bias\n",
    "    W = np.random.rand(num_features+1).reshape((-1,1)) #Random weights \n",
    "    sample_misclassified = True\n",
    "    while sample_misclassified:\n",
    "        sample_misclassified = False    \n",
    "        for index, x in enumerate(X):\n",
    "            if activation(x.reshape((1,-1))@W) != Y[index]: \n",
    "                samples_misclassified = True\n",
    "                W = W + Y[index] * learning_rate * x.reshape((-1,1)) # Gradient Descent \n",
    "    return W"
   ]
  },
  {
   "cell_type": "markdown",
   "metadata": {},
   "source": [
    "### Test"
   ]
  },
  {
   "cell_type": "code",
   "execution_count": 57,
   "metadata": {},
   "outputs": [],
   "source": [
    "learning_rate = 0.1\n",
    "W = perceptron(X,Y,0.1) "
   ]
  },
  {
   "cell_type": "code",
   "execution_count": 65,
   "metadata": {},
   "outputs": [
    {
     "data": {
      "image/png": "[encoded data removed]",
      "text/plain": [
       "<Figure size 432x288 with 1 Axes>"
      ]
     },
     "metadata": {
      "needs_background": "light"
     },
     "output_type": "display_data"
    }
   ],
   "source": [
    "plt.figure()\n",
    "plt.plot([4.4,6],[90,40],linewidth=1,label=\"Decision_boundary\")\n",
    "for index, x in enumerate(X):\n",
    "    if Y[index] == -1:\n",
    "        plt.scatter(x[0],x[1],c='b',marker = 'o')\n",
    "    else:\n",
    "        plt.scatter(x[0],x[1],c='g',marker = 'x')\n",
    "plt.legend(loc=\"best\")\n",
    "plt.xlabel(\"Height\")\n",
    "plt.ylabel(\"Weight\");"
   ]
  }
 ],
 "metadata": {
  "kernelspec": {
   "display_name": "Python 3",
   "language": "python",
   "name": "python3"
  },
  "language_info": {
   "codemirror_mode": {
    "name": "ipython",
    "version": 3
   },
   "file_extension": ".py",
   "mimetype": "text/x-python",
   "name": "python",
   "nbconvert_exporter": "python",
   "pygments_lexer": "ipython3",
   "version": "3.7.4"
  }
 },
 "nbformat": 4,
 "nbformat_minor": 2
}
